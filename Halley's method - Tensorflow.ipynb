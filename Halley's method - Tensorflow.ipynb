{
    "cells": [
        {
            "cell_type": "markdown",
            "metadata": {},
            "source": "# Halley's method with Tensorflow\n\nHalley's method is a root-finding algorithm that can be used in one real variable functions with continuous second derivative. This notebook presents the implementation of Halley's method to find a root for a fourth degree polinomial.\n\nHalley's method uses a initial value of X and iterates through the following formula:\n\n\\begin{equation*}\nX_{n+1} = Xn - \\frac{2f(x_n)*f'(x_n)}{2(f'(x_n))^2 - 2f(x_n)f''(x_n)}\n\\end{equation*}\n\n\nThis notebook uses a maximum number of iterations and stop criteria that consists of the difference between the value of $X_n$ and $X_{n+1}$ to determ the root of the polynomial."
        },
        {
            "cell_type": "code",
            "execution_count": 1,
            "metadata": {},
            "outputs": [
                {
                    "name": "stdout",
                    "output_type": "stream",
                    "text": "WARNING:tensorflow:From C:\\Users\\user\\Anaconda3\\lib\\site-packages\\tensorflow_core\\python\\compat\\v2_compat.py:88: disable_resource_variables (from tensorflow.python.ops.variable_scope) is deprecated and will be removed in a future version.\nInstructions for updating:\nnon-resource variables are not supported in the long term\n"
                }
            ],
            "source": "#Importing library and enabling eager execution\nimport tensorflow.compat.v1 as tf\ntf.disable_v2_behavior()\ntf.enable_eager_execution()"
        },
        {
            "cell_type": "code",
            "execution_count": 2,
            "metadata": {},
            "outputs": [],
            "source": "def root(i, a, x, x0):\n    \n    #Implementing automatic differentiation (second derivative)\n    with tf.GradientTape() as t:\n        t.watch(x)\n        \n        #Implementing automatic differentiation (first derivative)\n        with tf.GradientTape() as t2:\n            t2.watch(x)\n            \n            #fourth degree polinomial\n            f_x = a[0] + a[1]*x + a[2]*tf.pow(x,2) + a[3]*tf.pow(x,3) + a[4]*tf.pow(x,4)\n            f_x = tf.identity(f_x, name=\"f_x\")\n        \n        #First derivative\n        f_x1 = t2.gradient(f_x, x)\n        f_x1 = tf.identity(f_x1, name=\"f_x1\")\n    \n    #Second derivative\n    f_x2 = t.gradient(f_x1, x)\n    f_x2 = tf.identity(f_x2, name=\"f_x2\")\n    \n    #Halley's method\n    x0 = x\n    x = x - (2*f_x*f_x1)/(2*tf.pow(f_x1,2) - f_x*f_x2)\n    x = tf.identity(x, name=\"x\")\n\n    return [i+1, a, x, x0]"
        },
        {
            "cell_type": "code",
            "execution_count": 3,
            "metadata": {},
            "outputs": [],
            "source": "#If the difference between x and x0 is less than stop end the tf.while_loop\ndef condition(i, a, x, x0):\n    diff = tf.abs(x - x0)\n    return tf.less(stop, diff)"
        },
        {
            "cell_type": "code",
            "execution_count": 4,
            "metadata": {},
            "outputs": [
                {
                    "name": "stdout",
                    "output_type": "stream",
                    "text": "Result after 10000 iterations is -1.1812458038330078.\n"
                }
            ],
            "source": "#Iterator for tf.while_loop\ni = tf.constant(0)\n\n#The coefficients a0 to a4 \na = tf.constant([7.0, -3.0, 0.0, 5.0, 2.0])  \n\n#Initial guess x\nx = tf.constant(1.0)\n\n#Previous value of x (needs a start value to be updated in the function root)\nprevious = tf.constant(10.0)\n\n#Stop criteria\nstop = 0.0001\n\n#Calculating the root\noutput =  tf.while_loop(     \n          condition, \n          root, \n          loop_vars=[i, a, x, previous],\n          maximum_iterations=10000)\n\nprint(\"Result after {0} iterations is {1}.\".format(output[0], output[2]))"
        },
        {
            "cell_type": "code",
            "execution_count": null,
            "metadata": {},
            "outputs": [],
            "source": ""
        }
    ],
    "metadata": {
        "kernelspec": {
            "display_name": "Python 3.6",
            "language": "python",
            "name": "python3"
        },
        "language_info": {
            "codemirror_mode": {
                "name": "ipython",
                "version": 3
            },
            "file_extension": ".py",
            "mimetype": "text/x-python",
            "name": "python",
            "nbconvert_exporter": "python",
            "pygments_lexer": "ipython3",
            "version": "3.6.9"
        }
    },
    "nbformat": 4,
    "nbformat_minor": 4
}